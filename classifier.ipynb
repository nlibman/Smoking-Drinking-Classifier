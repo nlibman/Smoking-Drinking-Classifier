{
 "cells": [
  {
   "cell_type": "code",
   "execution_count": 25,
   "metadata": {},
   "outputs": [],
   "source": [
    "import numpy as np\n",
    "import pandas as pd\n",
    "import tensorflow as tf\n",
    "from tensorflow import keras\n",
    "from scikeras.wrappers import KerasClassifier\n",
    "import keras_tuner as kt\n",
    "from sklearn.model_selection import train_test_split\n",
    "from sklearn.preprocessing import OneHotEncoder\n",
    "from sklearn.preprocessing import MinMaxScaler\n"
   ]
  },
  {
   "cell_type": "code",
   "execution_count": 33,
   "metadata": {},
   "outputs": [],
   "source": [
    "data = pd.read_csv(\"smoking_driking_dataset_Ver01.csv\")\n",
    "enc = OneHotEncoder()\n",
    "\n",
    "data_encoded = pd.DataFrame(enc.fit_transform(data[[\"sex\", \"DRK_YN\", \"SMK_stat_type_cd\"]]).toarray())\n",
    "data_encoded.columns = enc.get_feature_names_out()\n",
    "data.drop([\"sex\", \"DRK_YN\", \"SMK_stat_type_cd\"], axis=1, inplace=True)\n",
    "\n",
    "data = pd.concat([data, data_encoded], axis=1)\n",
    "\n",
    "X = data.drop([\"SMK_stat_type_cd_1.0\",\"SMK_stat_type_cd_2.0\", \"SMK_stat_type_cd_3.0\", \"DRK_YN_Y\", \"DRK_YN_N\"], axis=1)\n",
    "y = data[[\"SMK_stat_type_cd_1.0\",\"SMK_stat_type_cd_2.0\", \"SMK_stat_type_cd_3.0\", \"DRK_YN_Y\", \"DRK_YN_N\"]]\n",
    "\n",
    "scaler = MinMaxScaler()\n",
    "X_scaled = pd.DataFrame(scaler.fit_transform(X))\n",
    "X_scaled.columns = scaler.feature_names_in_\n",
    "\n",
    "X_train, X_test, y_train, y_test = train_test_split(X, y, test_size=0.2, random_state=42)\n",
    "\n"
   ]
  },
  {
   "cell_type": "code",
   "execution_count": 20,
   "metadata": {},
   "outputs": [],
   "source": []
  },
  {
   "cell_type": "code",
   "execution_count": null,
   "metadata": {},
   "outputs": [],
   "source": []
  }
 ],
 "metadata": {
  "kernelspec": {
   "display_name": "Python 3",
   "language": "python",
   "name": "python3"
  },
  "language_info": {
   "codemirror_mode": {
    "name": "ipython",
    "version": 3
   },
   "file_extension": ".py",
   "mimetype": "text/x-python",
   "name": "python",
   "nbconvert_exporter": "python",
   "pygments_lexer": "ipython3",
   "version": "3.11.5"
  },
  "orig_nbformat": 4
 },
 "nbformat": 4,
 "nbformat_minor": 2
}
