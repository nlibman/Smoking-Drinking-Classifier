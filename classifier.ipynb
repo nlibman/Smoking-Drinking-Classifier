{
 "cells": [
  {
   "cell_type": "code",
   "execution_count": 25,
   "metadata": {},
   "outputs": [],
   "source": [
    "import numpy as np\n",
    "import pandas as pd\n",
    "from sklearn.model_selection import train_test_split\n",
    "from sklearn.preprocessing import OneHotEncoder\n",
    "from sklearn.preprocessing import MinMaxScaler\n",
    "from sklearn.model_selection import GridSearchCV\n",
    "from sklearn.neighbors import KNeighborsClassifier\n"
   ]
  },
  {
   "cell_type": "code",
   "execution_count": 33,
   "metadata": {},
   "outputs": [],
   "source": [
    "data = pd.read_csv(\"/Users/nathaniellibman/Documents/ML practice/smoking_driking_dataset_Ver01.csv\")\n",
    "enc = OneHotEncoder()\n",
    "\n",
    "data_encoded = pd.DataFrame(enc.fit_transform(data[[\"sex\"]]).toarray())\n",
    "data_encoded.columns = enc.get_feature_names_out()\n",
    "data.drop([\"sex\"], axis=1, inplace=True)\n",
    "\n",
    "data = pd.concat([data, data_encoded], axis=1)\n",
    "\n",
    "combined = [0]*len(data.index)\n",
    "for i in range(len(data.index)):\n",
    "    if data.get(\"DRK_YN\")[i] == \"Y\":\n",
    "        combined[i] = data.get(\"SMK_stat_type_cd\")[i]\n",
    "    else:\n",
    "        combined[i] = -data.get(\"SMK_stat_type_cd\")[i]\n",
    "\n",
    "combined_y = pd.DataFrame(combined)\n",
    "\n",
    "data.drop([\"DRK_YN\", \"SMK_stat_type_cd\"], axis=1, inplace=True)\n",
    "\n",
    "X = data\n",
    "y = combined_y\n",
    "\n",
    "scaler = MinMaxScaler()\n",
    "X_scaled = pd.DataFrame(scaler.fit_transform(X))\n",
    "X_scaled.columns = scaler.feature_names_in_\n",
    "\n",
    "X_train, X_test, y_train, y_test = train_test_split(X_scaled, y, test_size=0.2, random_state=42)\n"
   ]
  },
  {
   "cell_type": "code",
   "execution_count": 20,
   "metadata": {},
   "outputs": [],
   "source": [
    "from sklearn.metrics import accuracy_score\n",
    "neigh = KNeighborsClassifier(n_neighbors=100, weights=\"distance\")\n",
    "\n",
    "neigh.fit(X_train, y_train.values.ravel())\n",
    "\n",
    "predictions = neigh.predict(X_test)\n",
    "print(predictions)\n",
    "print(accuracy_score(y_test, predictions))"
   ]
  },
  {
   "cell_type": "code",
   "execution_count": null,
   "metadata": {},
   "outputs": [],
   "source": []
  }
 ],
 "metadata": {
  "kernelspec": {
   "display_name": "Python 3",
   "language": "python",
   "name": "python3"
  },
  "language_info": {
   "codemirror_mode": {
    "name": "ipython",
    "version": 3
   },
   "file_extension": ".py",
   "mimetype": "text/x-python",
   "name": "python",
   "nbconvert_exporter": "python",
   "pygments_lexer": "ipython3",
   "version": "3.11.5"
  },
  "orig_nbformat": 4
 },
 "nbformat": 4,
 "nbformat_minor": 2
}
